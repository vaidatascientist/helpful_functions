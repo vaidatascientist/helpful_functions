{
 "cells": [
  {
   "cell_type": "code",
   "execution_count": 1,
   "metadata": {},
   "outputs": [
    {
     "name": "stdout",
     "output_type": "stream",
     "text": [
      "KDE plot saved to ./student_majors_kde_filled_distribution.pdf\n"
     ]
    }
   ],
   "source": [
    "import numpy as np\n",
    "import matplotlib.pyplot as plt\n",
    "from scipy.stats import dirichlet, gaussian_kde\n",
    "from matplotlib.backends.backend_pdf import PdfPages\n",
    "\n",
    "# Parameters for the Dirichlet distribution (5 math, 10 science, 15 english)\n",
    "alpha = [6, 11, 16]\n",
    "\n",
    "# Generate random samples from the Dirichlet distribution\n",
    "samples = dirichlet.rvs(alpha, size=10000)\n",
    "\n",
    "# Create a PDF file for the KDE plot with filled areas\n",
    "pdf_path_kde_filled = './student_majors_kde_filled_distribution.pdf'\n",
    "with PdfPages(pdf_path_kde_filled) as pdf:\n",
    "    plt.figure(figsize=(10, 8))\n",
    "    \n",
    "    # Calculating KDE for each major\n",
    "    kde_math = gaussian_kde(samples[:, 0])\n",
    "    kde_science = gaussian_kde(samples[:, 1])\n",
    "    kde_english = gaussian_kde(samples[:, 2])\n",
    "    \n",
    "    # Plotting filled KDEs\n",
    "    x_grid = np.linspace(0, 1, 1000)\n",
    "    plt.fill_between(x_grid, kde_math(x_grid), color='blue', alpha=0.5, label='Math - Blue')\n",
    "    plt.fill_between(x_grid, kde_science(x_grid), color='orange', alpha=0.5, label='Science - Orange')\n",
    "    plt.fill_between(x_grid, kde_english(x_grid), color='green', alpha=0.5, label='English - Green')\n",
    "    \n",
    "    plt.title('KDE of Student Majors Distribution (Filled)')\n",
    "    plt.xlabel('Proportion')\n",
    "    plt.ylabel('Density')\n",
    "    plt.legend()\n",
    "    pdf.savefig()  # saves the current figure into a pdf page\n",
    "    plt.close()\n",
    "\n",
    "print(f'KDE plot saved to {pdf_path_kde_filled}')\n"
   ]
  }
 ],
 "metadata": {
  "kernelspec": {
   "display_name": "Python 3",
   "language": "python",
   "name": "python3"
  },
  "language_info": {
   "codemirror_mode": {
    "name": "ipython",
    "version": 3
   },
   "file_extension": ".py",
   "mimetype": "text/x-python",
   "name": "python",
   "nbconvert_exporter": "python",
   "pygments_lexer": "ipython3",
   "version": "3.11.3"
  }
 },
 "nbformat": 4,
 "nbformat_minor": 2
}
